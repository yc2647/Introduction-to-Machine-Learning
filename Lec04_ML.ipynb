{
 "cells": [
  {
   "cell_type": "markdown",
   "metadata": {},
   "source": [
    "# Fundamentals of Machine Learning Part 1"
   ]
  },
  {
   "cell_type": "markdown",
   "metadata": {},
   "source": [
    "### NETID: yc2647"
   ]
  },
  {
   "cell_type": "code",
   "execution_count": 1,
   "metadata": {},
   "outputs": [],
   "source": [
    "import numpy as np\n",
    "import pandas as pd\n",
    "import sklearn\n",
    "from sklearn.linear_model import LinearRegression\n",
    "from sklearn.model_selection import train_test_split\n",
    "import matplotlib.pyplot as plt"
   ]
  },
  {
   "cell_type": "code",
   "execution_count": 2,
   "metadata": {},
   "outputs": [],
   "source": [
    "# Import the data. Make sure that lecture4data.csv is in the same folder as this file!\n",
    "original_data = pd.read_csv('lecture4data.csv')"
   ]
  },
  {
   "cell_type": "markdown",
   "metadata": {},
   "source": []
  },
  {
   "cell_type": "markdown",
   "metadata": {},
   "source": [
    "# Problem  1: Python Practice"
   ]
  },
  {
   "cell_type": "code",
   "execution_count": 3,
   "metadata": {},
   "outputs": [],
   "source": [
    "problem_1_data = original_data.copy()"
   ]
  },
  {
   "cell_type": "markdown",
   "metadata": {},
   "source": [
    "### a) Print out the first few rows of `problem_1_data`"
   ]
  },
  {
   "cell_type": "code",
   "execution_count": 4,
   "metadata": {
    "scrolled": true
   },
   "outputs": [
    {
     "name": "stdout",
     "output_type": "stream",
     "text": [
      "                                  name        city state  adm_rate  \\\n",
      "0             Alabama A & M University      Normal    AL    0.6538   \n",
      "1  University of Alabama at Birmingham  Birmingham    AL    0.6043   \n",
      "2  University of Alabama in Huntsville  Huntsville    AL    0.8120   \n",
      "3             Alabama State University  Montgomery    AL    0.4639   \n",
      "4            The University of Alabama  Tuscaloosa    AL    0.5359   \n",
      "\n",
      "   undergrads   cost  compl_4  median_hh_inc  median_earnings  \n",
      "0        4505  20809   0.1104       49720.22            29900  \n",
      "1       11269  22232   0.3173       55735.22            40200  \n",
      "2        5829  20999   0.1848       58688.62            45600  \n",
      "3        4740  18100   0.1216       46065.20            26700  \n",
      "4       31005  27205   0.4135       57928.41            42700  \n"
     ]
    }
   ],
   "source": [
    "print(problem_1_data.head())"
   ]
  },
  {
   "cell_type": "markdown",
   "metadata": {},
   "source": [
    "### b) Add a new column to `problem_1_data` called `education_profit_ratio` that holds each schools' `median_earnings` divided by its `cost`."
   ]
  },
  {
   "cell_type": "code",
   "execution_count": 5,
   "metadata": {},
   "outputs": [
    {
     "data": {
      "text/html": [
       "<div>\n",
       "<style scoped>\n",
       "    .dataframe tbody tr th:only-of-type {\n",
       "        vertical-align: middle;\n",
       "    }\n",
       "\n",
       "    .dataframe tbody tr th {\n",
       "        vertical-align: top;\n",
       "    }\n",
       "\n",
       "    .dataframe thead th {\n",
       "        text-align: right;\n",
       "    }\n",
       "</style>\n",
       "<table border=\"1\" class=\"dataframe\">\n",
       "  <thead>\n",
       "    <tr style=\"text-align: right;\">\n",
       "      <th></th>\n",
       "      <th>name</th>\n",
       "      <th>city</th>\n",
       "      <th>state</th>\n",
       "      <th>adm_rate</th>\n",
       "      <th>undergrads</th>\n",
       "      <th>cost</th>\n",
       "      <th>compl_4</th>\n",
       "      <th>median_hh_inc</th>\n",
       "      <th>median_earnings</th>\n",
       "      <th>education_profit_ratio</th>\n",
       "    </tr>\n",
       "  </thead>\n",
       "  <tbody>\n",
       "    <tr>\n",
       "      <th>0</th>\n",
       "      <td>Alabama A &amp; M University</td>\n",
       "      <td>Normal</td>\n",
       "      <td>AL</td>\n",
       "      <td>0.6538</td>\n",
       "      <td>4505</td>\n",
       "      <td>20809</td>\n",
       "      <td>0.1104</td>\n",
       "      <td>49720.22</td>\n",
       "      <td>29900</td>\n",
       "      <td>1.436878</td>\n",
       "    </tr>\n",
       "    <tr>\n",
       "      <th>1</th>\n",
       "      <td>University of Alabama at Birmingham</td>\n",
       "      <td>Birmingham</td>\n",
       "      <td>AL</td>\n",
       "      <td>0.6043</td>\n",
       "      <td>11269</td>\n",
       "      <td>22232</td>\n",
       "      <td>0.3173</td>\n",
       "      <td>55735.22</td>\n",
       "      <td>40200</td>\n",
       "      <td>1.808204</td>\n",
       "    </tr>\n",
       "    <tr>\n",
       "      <th>2</th>\n",
       "      <td>University of Alabama in Huntsville</td>\n",
       "      <td>Huntsville</td>\n",
       "      <td>AL</td>\n",
       "      <td>0.8120</td>\n",
       "      <td>5829</td>\n",
       "      <td>20999</td>\n",
       "      <td>0.1848</td>\n",
       "      <td>58688.62</td>\n",
       "      <td>45600</td>\n",
       "      <td>2.171532</td>\n",
       "    </tr>\n",
       "    <tr>\n",
       "      <th>3</th>\n",
       "      <td>Alabama State University</td>\n",
       "      <td>Montgomery</td>\n",
       "      <td>AL</td>\n",
       "      <td>0.4639</td>\n",
       "      <td>4740</td>\n",
       "      <td>18100</td>\n",
       "      <td>0.1216</td>\n",
       "      <td>46065.20</td>\n",
       "      <td>26700</td>\n",
       "      <td>1.475138</td>\n",
       "    </tr>\n",
       "    <tr>\n",
       "      <th>4</th>\n",
       "      <td>The University of Alabama</td>\n",
       "      <td>Tuscaloosa</td>\n",
       "      <td>AL</td>\n",
       "      <td>0.5359</td>\n",
       "      <td>31005</td>\n",
       "      <td>27205</td>\n",
       "      <td>0.4135</td>\n",
       "      <td>57928.41</td>\n",
       "      <td>42700</td>\n",
       "      <td>1.569564</td>\n",
       "    </tr>\n",
       "    <tr>\n",
       "      <th>...</th>\n",
       "      <td>...</td>\n",
       "      <td>...</td>\n",
       "      <td>...</td>\n",
       "      <td>...</td>\n",
       "      <td>...</td>\n",
       "      <td>...</td>\n",
       "      <td>...</td>\n",
       "      <td>...</td>\n",
       "      <td>...</td>\n",
       "      <td>...</td>\n",
       "    </tr>\n",
       "    <tr>\n",
       "      <th>1579</th>\n",
       "      <td>DigiPen Institute of Technology</td>\n",
       "      <td>Redmond</td>\n",
       "      <td>WA</td>\n",
       "      <td>0.4657</td>\n",
       "      <td>989</td>\n",
       "      <td>41573</td>\n",
       "      <td>0.3139</td>\n",
       "      <td>70283.94</td>\n",
       "      <td>81300</td>\n",
       "      <td>1.955596</td>\n",
       "    </tr>\n",
       "    <tr>\n",
       "      <th>1580</th>\n",
       "      <td>National University College-Rio Grande</td>\n",
       "      <td>Rio Grande</td>\n",
       "      <td>PR</td>\n",
       "      <td>0.7866</td>\n",
       "      <td>1493</td>\n",
       "      <td>13739</td>\n",
       "      <td>0.0102</td>\n",
       "      <td>20548.96</td>\n",
       "      <td>17100</td>\n",
       "      <td>1.244632</td>\n",
       "    </tr>\n",
       "    <tr>\n",
       "      <th>1581</th>\n",
       "      <td>Neumont University</td>\n",
       "      <td>Salt Lake City</td>\n",
       "      <td>UT</td>\n",
       "      <td>0.8301</td>\n",
       "      <td>472</td>\n",
       "      <td>31821</td>\n",
       "      <td>0.5263</td>\n",
       "      <td>65341.88</td>\n",
       "      <td>47900</td>\n",
       "      <td>1.505295</td>\n",
       "    </tr>\n",
       "    <tr>\n",
       "      <th>1582</th>\n",
       "      <td>Johnson &amp; Wales University-Charlotte</td>\n",
       "      <td>Charlotte</td>\n",
       "      <td>NC</td>\n",
       "      <td>0.7245</td>\n",
       "      <td>2218</td>\n",
       "      <td>42124</td>\n",
       "      <td>0.3932</td>\n",
       "      <td>68856.12</td>\n",
       "      <td>36600</td>\n",
       "      <td>0.868863</td>\n",
       "    </tr>\n",
       "    <tr>\n",
       "      <th>1583</th>\n",
       "      <td>ITT Technical Institute-Kennesaw</td>\n",
       "      <td>Kennesaw</td>\n",
       "      <td>GA</td>\n",
       "      <td>0.8824</td>\n",
       "      <td>358</td>\n",
       "      <td>27339</td>\n",
       "      <td>0.0000</td>\n",
       "      <td>56914.50</td>\n",
       "      <td>38800</td>\n",
       "      <td>1.419218</td>\n",
       "    </tr>\n",
       "  </tbody>\n",
       "</table>\n",
       "<p>1584 rows × 10 columns</p>\n",
       "</div>"
      ],
      "text/plain": [
       "                                        name            city state  adm_rate  \\\n",
       "0                   Alabama A & M University          Normal    AL    0.6538   \n",
       "1        University of Alabama at Birmingham      Birmingham    AL    0.6043   \n",
       "2        University of Alabama in Huntsville      Huntsville    AL    0.8120   \n",
       "3                   Alabama State University      Montgomery    AL    0.4639   \n",
       "4                  The University of Alabama      Tuscaloosa    AL    0.5359   \n",
       "...                                      ...             ...   ...       ...   \n",
       "1579         DigiPen Institute of Technology         Redmond    WA    0.4657   \n",
       "1580  National University College-Rio Grande      Rio Grande    PR    0.7866   \n",
       "1581                      Neumont University  Salt Lake City    UT    0.8301   \n",
       "1582    Johnson & Wales University-Charlotte       Charlotte    NC    0.7245   \n",
       "1583        ITT Technical Institute-Kennesaw        Kennesaw    GA    0.8824   \n",
       "\n",
       "      undergrads   cost  compl_4  median_hh_inc  median_earnings  \\\n",
       "0           4505  20809   0.1104       49720.22            29900   \n",
       "1          11269  22232   0.3173       55735.22            40200   \n",
       "2           5829  20999   0.1848       58688.62            45600   \n",
       "3           4740  18100   0.1216       46065.20            26700   \n",
       "4          31005  27205   0.4135       57928.41            42700   \n",
       "...          ...    ...      ...            ...              ...   \n",
       "1579         989  41573   0.3139       70283.94            81300   \n",
       "1580        1493  13739   0.0102       20548.96            17100   \n",
       "1581         472  31821   0.5263       65341.88            47900   \n",
       "1582        2218  42124   0.3932       68856.12            36600   \n",
       "1583         358  27339   0.0000       56914.50            38800   \n",
       "\n",
       "      education_profit_ratio  \n",
       "0                   1.436878  \n",
       "1                   1.808204  \n",
       "2                   2.171532  \n",
       "3                   1.475138  \n",
       "4                   1.569564  \n",
       "...                      ...  \n",
       "1579                1.955596  \n",
       "1580                1.244632  \n",
       "1581                1.505295  \n",
       "1582                0.868863  \n",
       "1583                1.419218  \n",
       "\n",
       "[1584 rows x 10 columns]"
      ]
     },
     "execution_count": 5,
     "metadata": {},
     "output_type": "execute_result"
    }
   ],
   "source": [
    "data= pd.DataFrame(problem_1_data)\n",
    "mEs= data[\"median_earnings\"]\n",
    "cost= data[\"cost\"]\n",
    "eduProRatio= mEs/cost;\n",
    "data.insert(9,\"education_profit_ratio\",eduProRatio,True)\n",
    "#data.drop(['education_profit_ratio'], axis=1)\n",
    "data"
   ]
  },
  {
   "cell_type": "markdown",
   "metadata": {},
   "source": [
    "### c) (OPTIONAL) Briefly describe what `cost_single_brackets`, `cost_double_brackets`, and `multiple_columns` look like (what their shapes/dimensions are).\n",
    "\n",
    "<b>Hint</b>: You can use Python's `type` function to tell the type of an objective. For example, `print(type(dylanIsCool))` will print out the type of `dylanIsCool`. You can also try printing out the object to see what it looks like."
   ]
  },
  {
   "cell_type": "code",
   "execution_count": 6,
   "metadata": {},
   "outputs": [
    {
     "name": "stdout",
     "output_type": "stream",
     "text": [
      "       cost  median_earnings\n",
      "0     20809            29900\n",
      "1     22232            40200\n",
      "2     20999            45600\n",
      "3     18100            26700\n",
      "4     27205            42700\n",
      "...     ...              ...\n",
      "1579  41573            81300\n",
      "1580  13739            17100\n",
      "1581  31821            47900\n",
      "1582  42124            36600\n",
      "1583  27339            38800\n",
      "\n",
      "[1584 rows x 2 columns]\n",
      "0       20809\n",
      "1       22232\n",
      "2       20999\n",
      "3       18100\n",
      "4       27205\n",
      "        ...  \n",
      "1579    41573\n",
      "1580    13739\n",
      "1581    31821\n",
      "1582    42124\n",
      "1583    27339\n",
      "Name: cost, Length: 1584, dtype: int64\n",
      "       cost\n",
      "0     20809\n",
      "1     22232\n",
      "2     20999\n",
      "3     18100\n",
      "4     27205\n",
      "...     ...\n",
      "1579  41573\n",
      "1580  13739\n",
      "1581  31821\n",
      "1582  42124\n",
      "1583  27339\n",
      "\n",
      "[1584 rows x 1 columns]\n"
     ]
    }
   ],
   "source": [
    "multiple_columns = problem_1_data[['cost', 'median_earnings']]\n",
    "cost_single_brackets = problem_1_data['cost']\n",
    "cost_double_brackets = problem_1_data[['cost']]\n",
    "\n",
    "# multiple_columns : only print out the keywords in the datasets\n",
    "print(multiple_columns)\n",
    "print(cost_single_brackets)\n",
    "print(cost_double_brackets)\n",
    "\n",
    "# single_bracket= Selecting one column - results in Pandas.Series\n",
    "# double_bracket= Selecting subset of DataFrame - results in DataFrame\n",
    "# double_bracket allows us to select multiple columns from the DataFrame, whereas single_bracket only allows us to select one. "
   ]
  },
  {
   "cell_type": "markdown",
   "metadata": {},
   "source": []
  },
  {
   "cell_type": "markdown",
   "metadata": {},
   "source": [
    "# Basics of Machine Learning\n",
    "\n",
    "So far we have discussed the importance of data visualization and data preprocessing. These steps are important in preparing the datasets. Now, we will start our machine learning section of the course. We have already discussed how a machine learning model is like a function, and we will now explain a bit more using __linear regression__ models. Before we begin, we should import some useful python."
   ]
  },
  {
   "cell_type": "markdown",
   "metadata": {},
   "source": [
    "This dataset contains information on different colleges across the US. The full dataset was assembled from https://collegescorecard.ed.gov/data/ and this version was trimmed down to a few important columns and cleaned to removed schools with missing data.\n",
    "\n",
    "We will look at adm_rate (admission rate), undergrads (number of undergrads), cost (cost to attand the college for a year), compl_4 (percent of students graduated in 4 years), median_hh_inc (median household income of students), and median_earnings (median earnings 10 years after starting college).\n",
    "\n",
    "We want to predict median_earnings using other columns in the data set. In other words, we have some inputs from the dataframe (such as cost), and we want to output another column in the dataframe (median_earnings)."
   ]
  },
  {
   "cell_type": "markdown",
   "metadata": {},
   "source": [
    "# Section 1: Intro"
   ]
  },
  {
   "cell_type": "markdown",
   "metadata": {},
   "source": [
    "To keep things clean throughout this Jupyter Notebook, in each section, we first make a copy of the original data. You won't have to do this in your own projects."
   ]
  },
  {
   "cell_type": "code",
   "execution_count": 7,
   "metadata": {},
   "outputs": [
    {
     "data": {
      "text/html": [
       "<div>\n",
       "<style scoped>\n",
       "    .dataframe tbody tr th:only-of-type {\n",
       "        vertical-align: middle;\n",
       "    }\n",
       "\n",
       "    .dataframe tbody tr th {\n",
       "        vertical-align: top;\n",
       "    }\n",
       "\n",
       "    .dataframe thead th {\n",
       "        text-align: right;\n",
       "    }\n",
       "</style>\n",
       "<table border=\"1\" class=\"dataframe\">\n",
       "  <thead>\n",
       "    <tr style=\"text-align: right;\">\n",
       "      <th></th>\n",
       "      <th>name</th>\n",
       "      <th>city</th>\n",
       "      <th>state</th>\n",
       "      <th>adm_rate</th>\n",
       "      <th>undergrads</th>\n",
       "      <th>cost</th>\n",
       "      <th>compl_4</th>\n",
       "      <th>median_hh_inc</th>\n",
       "      <th>median_earnings</th>\n",
       "    </tr>\n",
       "  </thead>\n",
       "  <tbody>\n",
       "    <tr>\n",
       "      <th>0</th>\n",
       "      <td>Alabama A &amp; M University</td>\n",
       "      <td>Normal</td>\n",
       "      <td>AL</td>\n",
       "      <td>0.6538</td>\n",
       "      <td>4505</td>\n",
       "      <td>20809</td>\n",
       "      <td>0.1104</td>\n",
       "      <td>49720.22</td>\n",
       "      <td>29900</td>\n",
       "    </tr>\n",
       "    <tr>\n",
       "      <th>1</th>\n",
       "      <td>University of Alabama at Birmingham</td>\n",
       "      <td>Birmingham</td>\n",
       "      <td>AL</td>\n",
       "      <td>0.6043</td>\n",
       "      <td>11269</td>\n",
       "      <td>22232</td>\n",
       "      <td>0.3173</td>\n",
       "      <td>55735.22</td>\n",
       "      <td>40200</td>\n",
       "    </tr>\n",
       "    <tr>\n",
       "      <th>2</th>\n",
       "      <td>University of Alabama in Huntsville</td>\n",
       "      <td>Huntsville</td>\n",
       "      <td>AL</td>\n",
       "      <td>0.8120</td>\n",
       "      <td>5829</td>\n",
       "      <td>20999</td>\n",
       "      <td>0.1848</td>\n",
       "      <td>58688.62</td>\n",
       "      <td>45600</td>\n",
       "    </tr>\n",
       "    <tr>\n",
       "      <th>3</th>\n",
       "      <td>Alabama State University</td>\n",
       "      <td>Montgomery</td>\n",
       "      <td>AL</td>\n",
       "      <td>0.4639</td>\n",
       "      <td>4740</td>\n",
       "      <td>18100</td>\n",
       "      <td>0.1216</td>\n",
       "      <td>46065.20</td>\n",
       "      <td>26700</td>\n",
       "    </tr>\n",
       "    <tr>\n",
       "      <th>4</th>\n",
       "      <td>The University of Alabama</td>\n",
       "      <td>Tuscaloosa</td>\n",
       "      <td>AL</td>\n",
       "      <td>0.5359</td>\n",
       "      <td>31005</td>\n",
       "      <td>27205</td>\n",
       "      <td>0.4135</td>\n",
       "      <td>57928.41</td>\n",
       "      <td>42700</td>\n",
       "    </tr>\n",
       "  </tbody>\n",
       "</table>\n",
       "</div>"
      ],
      "text/plain": [
       "                                  name        city state  adm_rate  \\\n",
       "0             Alabama A & M University      Normal    AL    0.6538   \n",
       "1  University of Alabama at Birmingham  Birmingham    AL    0.6043   \n",
       "2  University of Alabama in Huntsville  Huntsville    AL    0.8120   \n",
       "3             Alabama State University  Montgomery    AL    0.4639   \n",
       "4            The University of Alabama  Tuscaloosa    AL    0.5359   \n",
       "\n",
       "   undergrads   cost  compl_4  median_hh_inc  median_earnings  \n",
       "0        4505  20809   0.1104       49720.22            29900  \n",
       "1       11269  22232   0.3173       55735.22            40200  \n",
       "2        5829  20999   0.1848       58688.62            45600  \n",
       "3        4740  18100   0.1216       46065.20            26700  \n",
       "4       31005  27205   0.4135       57928.41            42700  "
      ]
     },
     "execution_count": 7,
     "metadata": {},
     "output_type": "execute_result"
    }
   ],
   "source": [
    "section_1_data = original_data.copy()\n",
    "section_1_data.head()"
   ]
  },
  {
   "cell_type": "markdown",
   "metadata": {},
   "source": [
    "Now, let's start machine learning! We'll choose a set of inputs, and then use machine learning to predict median_earnings using that set of inputs"
   ]
  },
  {
   "cell_type": "code",
   "execution_count": 8,
   "metadata": {},
   "outputs": [],
   "source": [
    "inputs = section_1_data[['cost']]\n",
    "outputs = section_1_data['median_earnings']"
   ]
  },
  {
   "cell_type": "code",
   "execution_count": 9,
   "metadata": {},
   "outputs": [
    {
     "name": "stdout",
     "output_type": "stream",
     "text": [
      "<class 'pandas.core.frame.DataFrame'>\n"
     ]
    },
    {
     "data": {
      "text/html": [
       "<div>\n",
       "<style scoped>\n",
       "    .dataframe tbody tr th:only-of-type {\n",
       "        vertical-align: middle;\n",
       "    }\n",
       "\n",
       "    .dataframe tbody tr th {\n",
       "        vertical-align: top;\n",
       "    }\n",
       "\n",
       "    .dataframe thead th {\n",
       "        text-align: right;\n",
       "    }\n",
       "</style>\n",
       "<table border=\"1\" class=\"dataframe\">\n",
       "  <thead>\n",
       "    <tr style=\"text-align: right;\">\n",
       "      <th></th>\n",
       "      <th>cost</th>\n",
       "    </tr>\n",
       "  </thead>\n",
       "  <tbody>\n",
       "    <tr>\n",
       "      <th>0</th>\n",
       "      <td>20809</td>\n",
       "    </tr>\n",
       "    <tr>\n",
       "      <th>1</th>\n",
       "      <td>22232</td>\n",
       "    </tr>\n",
       "    <tr>\n",
       "      <th>2</th>\n",
       "      <td>20999</td>\n",
       "    </tr>\n",
       "    <tr>\n",
       "      <th>3</th>\n",
       "      <td>18100</td>\n",
       "    </tr>\n",
       "    <tr>\n",
       "      <th>4</th>\n",
       "      <td>27205</td>\n",
       "    </tr>\n",
       "  </tbody>\n",
       "</table>\n",
       "</div>"
      ],
      "text/plain": [
       "    cost\n",
       "0  20809\n",
       "1  22232\n",
       "2  20999\n",
       "3  18100\n",
       "4  27205"
      ]
     },
     "execution_count": 9,
     "metadata": {},
     "output_type": "execute_result"
    }
   ],
   "source": [
    "print(type(inputs))\n",
    "inputs.head(5)"
   ]
  },
  {
   "cell_type": "code",
   "execution_count": 10,
   "metadata": {},
   "outputs": [
    {
     "name": "stdout",
     "output_type": "stream",
     "text": [
      "<class 'pandas.core.series.Series'>\n"
     ]
    },
    {
     "data": {
      "text/plain": [
       "0    29900\n",
       "1    40200\n",
       "2    45600\n",
       "3    26700\n",
       "4    42700\n",
       "Name: median_earnings, dtype: int64"
      ]
     },
     "execution_count": 10,
     "metadata": {},
     "output_type": "execute_result"
    }
   ],
   "source": [
    "print(type(outputs))\n",
    "outputs[:5]"
   ]
  },
  {
   "cell_type": "code",
   "execution_count": 11,
   "metadata": {},
   "outputs": [],
   "source": [
    "ML_object_that_predicts = LinearRegression()"
   ]
  },
  {
   "cell_type": "markdown",
   "metadata": {},
   "source": [
    "We called a function in sklearn called `LinearRegression` and stored the result in `ML_object_that_predicts`. `ML_object_that_predicts` is an object with several useful functions. You can access these functions through `ML_object_that_predicts.<insert function name here>`. As its name implies, we'll use these functions to make predictions.\n",
    "\n",
    "To do this, we're use the `fit` function and `predict` functions. We'll go into what fitting is later. To predict, give `ML_object_that_predicts` a set of inputs, and it'll spit out a set of predictions based on those inputs."
   ]
  },
  {
   "cell_type": "code",
   "execution_count": 12,
   "metadata": {},
   "outputs": [
    {
     "data": {
      "text/html": [
       "<div>\n",
       "<style scoped>\n",
       "    .dataframe tbody tr th:only-of-type {\n",
       "        vertical-align: middle;\n",
       "    }\n",
       "\n",
       "    .dataframe tbody tr th {\n",
       "        vertical-align: top;\n",
       "    }\n",
       "\n",
       "    .dataframe thead th {\n",
       "        text-align: right;\n",
       "    }\n",
       "</style>\n",
       "<table border=\"1\" class=\"dataframe\">\n",
       "  <thead>\n",
       "    <tr style=\"text-align: right;\">\n",
       "      <th></th>\n",
       "      <th>REAL median_income</th>\n",
       "      <th>PREDICTED median_income</th>\n",
       "    </tr>\n",
       "  </thead>\n",
       "  <tbody>\n",
       "    <tr>\n",
       "      <th>0</th>\n",
       "      <td>36200</td>\n",
       "      <td>35659.150942</td>\n",
       "    </tr>\n",
       "    <tr>\n",
       "      <th>1</th>\n",
       "      <td>42700</td>\n",
       "      <td>44239.451395</td>\n",
       "    </tr>\n",
       "    <tr>\n",
       "      <th>2</th>\n",
       "      <td>42500</td>\n",
       "      <td>37177.409277</td>\n",
       "    </tr>\n",
       "    <tr>\n",
       "      <th>3</th>\n",
       "      <td>42800</td>\n",
       "      <td>42462.534625</td>\n",
       "    </tr>\n",
       "    <tr>\n",
       "      <th>4</th>\n",
       "      <td>35200</td>\n",
       "      <td>45324.623556</td>\n",
       "    </tr>\n",
       "    <tr>\n",
       "      <th>5</th>\n",
       "      <td>45800</td>\n",
       "      <td>41478.088340</td>\n",
       "    </tr>\n",
       "    <tr>\n",
       "      <th>6</th>\n",
       "      <td>49200</td>\n",
       "      <td>48904.428228</td>\n",
       "    </tr>\n",
       "    <tr>\n",
       "      <th>7</th>\n",
       "      <td>31100</td>\n",
       "      <td>44439.499303</td>\n",
       "    </tr>\n",
       "    <tr>\n",
       "      <th>8</th>\n",
       "      <td>43900</td>\n",
       "      <td>36473.381025</td>\n",
       "    </tr>\n",
       "    <tr>\n",
       "      <th>9</th>\n",
       "      <td>21400</td>\n",
       "      <td>42818.760286</td>\n",
       "    </tr>\n",
       "  </tbody>\n",
       "</table>\n",
       "</div>"
      ],
      "text/plain": [
       "   REAL median_income  PREDICTED median_income\n",
       "0               36200             35659.150942\n",
       "1               42700             44239.451395\n",
       "2               42500             37177.409277\n",
       "3               42800             42462.534625\n",
       "4               35200             45324.623556\n",
       "5               45800             41478.088340\n",
       "6               49200             48904.428228\n",
       "7               31100             44439.499303\n",
       "8               43900             36473.381025\n",
       "9               21400             42818.760286"
      ]
     },
     "execution_count": 12,
     "metadata": {},
     "output_type": "execute_result"
    }
   ],
   "source": [
    "known_input, future_input, known_output, future_output = train_test_split(inputs, outputs, test_size=0.2, random_state=42)\n",
    "\n",
    "ML_object_that_predicts.fit(known_input, known_output) # tell it known stuff\n",
    "\n",
    "predictions = ML_object_that_predicts.predict(future_input) # given future input, predict future output!\n",
    "\n",
    "# compare actual median_earnings and the predicted median_earnings\n",
    "pd.DataFrame({\"REAL median_income\":future_output, \"PREDICTED median_income\":predictions}).reset_index(drop=True).head(10)"
   ]
  },
  {
   "cell_type": "markdown",
   "metadata": {},
   "source": [
    "Now we'll call the `score` function of `ML_object_that_predicts`. This returns a \"score\", which is a measure of how accurate the predictions are. The best score is 1, and negative scores are really bad."
   ]
  },
  {
   "cell_type": "code",
   "execution_count": 13,
   "metadata": {},
   "outputs": [
    {
     "name": "stdout",
     "output_type": "stream",
     "text": [
      "Score: 0.17036266107284015\n"
     ]
    }
   ],
   "source": [
    "print(\"Score:\", ML_object_that_predicts.score(future_input, future_output))"
   ]
  },
  {
   "cell_type": "markdown",
   "metadata": {},
   "source": [
    "Let's quickly visualize what we just did. The blue points are the true values, and the black points (which are close together, so they look like a line) are our predictions. Our predictions aren't super accurate, but they're somewhat close for most points."
   ]
  },
  {
   "cell_type": "code",
   "execution_count": 14,
   "metadata": {},
   "outputs": [
    {
     "data": {
      "image/png": "[encoded data removed]",
      "text/plain": [
       "<Figure size 432x288 with 1 Axes>"
      ]
     },
     "metadata": {
      "needs_background": "light"
     },
     "output_type": "display_data"
    }
   ],
   "source": [
    "plt.scatter(future_input, future_output)\n",
    "plt.plot(future_input, predictions, 'k', linewidth=4)\n",
    "plt.legend([\"Predictions\",\"Actual Values\"])\n",
    "plt.title('Cost of Attendance vs Median Earnings')\n",
    "plt.xlabel('Cost of Attendance')\n",
    "plt.ylabel('Median Earnings')\n",
    "plt.show()"
   ]
  },
  {
   "cell_type": "markdown",
   "metadata": {},
   "source": [
    "### Summary:\n",
    "\n",
    "sklearn has an object called `ML_object_that_predicts`. We \"fit\" it on some inputs and outputs. Then, we give `ML_object_that_predicts` some more inputs, and it predicts outputs.\n",
    "\n",
    "### What we don't know:\n",
    "\n",
    "What's \"fitting\"?\n",
    "\n",
    "Why do we split the dataset up?\n",
    "\n",
    "How does the model make predictions?\n",
    "\n",
    "How do we increase the model's score (how do we make our model better)?"
   ]
  },
  {
   "cell_type": "markdown",
   "metadata": {},
   "source": [
    "# Section 2: Fitting / Training"
   ]
  },
  {
   "cell_type": "code",
   "execution_count": 15,
   "metadata": {},
   "outputs": [],
   "source": [
    "section_2_data = original_data.copy()"
   ]
  },
  {
   "cell_type": "markdown",
   "metadata": {},
   "source": [
    "The inputs are called \"features\", and the output is called the \"target\".\n",
    "\n",
    "`ML_object_that_predicts` is a \"model\""
   ]
  },
  {
   "cell_type": "code",
   "execution_count": 16,
   "metadata": {},
   "outputs": [],
   "source": [
    "features = section_2_data[['cost']]\n",
    "target = section_2_data['median_earnings']\n",
    "model = LinearRegression()"
   ]
  },
  {
   "cell_type": "markdown",
   "metadata": {},
   "source": [
    "In reality, we will train a model on known data, and that model is our product -- we're done with it, and we ship it out to be used. The user will give it new data, and the model will predict the corresponding outputs.\n",
    "We emulate that by splitting our data into \"known\" data and \"new\" data. There're a lot of synonyms for known data and new data, and we'll introduce a couple today."
   ]
  },
  {
   "cell_type": "code",
   "execution_count": 17,
   "metadata": {},
   "outputs": [
    {
     "name": "stdout",
     "output_type": "stream",
     "text": [
      "Score: 0.17036266107284015\n"
     ]
    }
   ],
   "source": [
    "from sklearn.model_selection import train_test_split\n",
    "known_data, new_data, known_output, goal_output = train_test_split(features, target, test_size=0.2, random_state=42)\n",
    "\n",
    "# Here, we call the values we are trying to predict the \"goal_output\".\n",
    "# Our goal is to make a model that, when given known_output, can try to predict goal_output.\n",
    "\n",
    "model.fit(known_data, known_output) # train/fit on known inputs\n",
    "predictions = model.predict(new_data) # predict on new data\n",
    "\n",
    "print(\"Score:\", model.score(new_data, goal_output))"
   ]
  },
  {
   "cell_type": "markdown",
   "metadata": {},
   "source": [
    "### Summary\n",
    "`LinearRegression()` returns a \"model\", which is an object that we first train, then use to predict values. To train, we call `model.fit` with known features and their corresponding outputs. To predict, we call `model.predict` on some new set of data, which it wasn't trained on\n",
    "\n",
    "### What we still don't know\n",
    "\n",
    "How does the model make predictions?\n",
    "\n",
    "How do we increase the model's score (how do we make our model better)?"
   ]
  },
  {
   "cell_type": "markdown",
   "metadata": {},
   "source": [
    "# Section 3: Models"
   ]
  },
  {
   "cell_type": "code",
   "execution_count": 18,
   "metadata": {},
   "outputs": [],
   "source": [
    "section_3_data = original_data.copy()"
   ]
  },
  {
   "cell_type": "code",
   "execution_count": 19,
   "metadata": {},
   "outputs": [
    {
     "data": {
      "text/plain": [
       "LinearRegression(copy_X=True, fit_intercept=True, n_jobs=None, normalize=False)"
      ]
     },
     "execution_count": 19,
     "metadata": {},
     "output_type": "execute_result"
    }
   ],
   "source": [
    "features = section_3_data[['cost','adm_rate']]\n",
    "target = section_3_data['median_earnings']\n",
    "x_train, x_test, y_train, y_test = train_test_split(features, target, test_size=0.2, random_state=42)\n",
    "model = LinearRegression()\n",
    "model.fit(x_train, y_train)  #train the model"
   ]
  },
  {
   "cell_type": "markdown",
   "metadata": {},
   "source": [
    "Running the following cell will pull up a description of `model`."
   ]
  },
  {
   "cell_type": "code",
   "execution_count": 20,
   "metadata": {},
   "outputs": [],
   "source": [
    "# if the popup annoys you, then feel free to comment out the following line\n",
    "# model?"
   ]
  },
  {
   "cell_type": "code",
   "execution_count": 21,
   "metadata": {},
   "outputs": [
    {
     "data": {
      "text/plain": [
       "array([ 3.14511519e-01, -8.76543392e+03])"
      ]
     },
     "execution_count": 21,
     "metadata": {},
     "output_type": "execute_result"
    }
   ],
   "source": [
    "model.coef_"
   ]
  },
  {
   "cell_type": "code",
   "execution_count": 22,
   "metadata": {},
   "outputs": [
    {
     "data": {
      "text/plain": [
       "37049.972009516816"
      ]
     },
     "execution_count": 22,
     "metadata": {},
     "output_type": "execute_result"
    }
   ],
   "source": [
    "model.intercept_"
   ]
  },
  {
   "cell_type": "markdown",
   "metadata": {},
   "source": [
    "`model` is a linear regression model of the form $y = B_1*x_1 + B_2*x_2 + k$, where:\n",
    "\n",
    "$y = $ median_earnings, our target\n",
    "\n",
    "$x_1 = $ cost\n",
    "\n",
    "$B_1 = 3.14511519e-01$, the coefficient on cost\n",
    "\n",
    "$x_2 = $ admission rate\n",
    "\n",
    "$B_2 = -8.76543392e+03$, the coefficient on admission rate\n",
    "\n",
    "$k = 37049.972$, the intercept. \n",
    "\n",
    "We won't talk too much about the intercept in this class, but if you're interested in learning more, feel free to ask us after class.\n",
    "\n",
    "Say you have information about a school's cost and admission rate. Then, `model` can use the school's cost and admission rate to predict the school's median earnings. How does it do that? It calculates $predicted\\_median\\_earnings = B_1*cost + B_2 * x_2$\n",
    "\n",
    "Let's try this out on an example."
   ]
  },
  {
   "cell_type": "code",
   "execution_count": 23,
   "metadata": {},
   "outputs": [
    {
     "data": {
      "text/html": [
       "<div>\n",
       "<style scoped>\n",
       "    .dataframe tbody tr th:only-of-type {\n",
       "        vertical-align: middle;\n",
       "    }\n",
       "\n",
       "    .dataframe tbody tr th {\n",
       "        vertical-align: top;\n",
       "    }\n",
       "\n",
       "    .dataframe thead th {\n",
       "        text-align: right;\n",
       "    }\n",
       "</style>\n",
       "<table border=\"1\" class=\"dataframe\">\n",
       "  <thead>\n",
       "    <tr style=\"text-align: right;\">\n",
       "      <th></th>\n",
       "      <th>name</th>\n",
       "      <th>city</th>\n",
       "      <th>state</th>\n",
       "      <th>adm_rate</th>\n",
       "      <th>undergrads</th>\n",
       "      <th>cost</th>\n",
       "      <th>compl_4</th>\n",
       "      <th>median_hh_inc</th>\n",
       "      <th>median_earnings</th>\n",
       "    </tr>\n",
       "  </thead>\n",
       "  <tbody>\n",
       "    <tr>\n",
       "      <th>1</th>\n",
       "      <td>University of Alabama at Birmingham</td>\n",
       "      <td>Birmingham</td>\n",
       "      <td>AL</td>\n",
       "      <td>0.6043</td>\n",
       "      <td>11269</td>\n",
       "      <td>22232</td>\n",
       "      <td>0.3173</td>\n",
       "      <td>55735.22</td>\n",
       "      <td>40200</td>\n",
       "    </tr>\n",
       "  </tbody>\n",
       "</table>\n",
       "</div>"
      ],
      "text/plain": [
       "                                  name        city state  adm_rate  \\\n",
       "1  University of Alabama at Birmingham  Birmingham    AL    0.6043   \n",
       "\n",
       "   undergrads   cost  compl_4  median_hh_inc  median_earnings  \n",
       "1       11269  22232   0.3173       55735.22            40200  "
      ]
     },
     "execution_count": 23,
     "metadata": {},
     "output_type": "execute_result"
    }
   ],
   "source": [
    "section_3_data.loc[1:1]"
   ]
  },
  {
   "cell_type": "code",
   "execution_count": 24,
   "metadata": {},
   "outputs": [],
   "source": [
    "example_cost = 22232\n",
    "example_admission_rate = 0.6043"
   ]
  },
  {
   "cell_type": "code",
   "execution_count": 25,
   "metadata": {},
   "outputs": [
    {
     "name": "stdout",
     "output_type": "stream",
     "text": [
      "38745.240382799544\n"
     ]
    }
   ],
   "source": [
    "B1 = model.coef_[0]\n",
    "B2 = model.coef_[1]\n",
    "k = model.intercept_\n",
    "manually_predicted_median_earnings = B1 * example_cost + B2 * example_admission_rate + k\n",
    "print(manually_predicted_median_earnings)"
   ]
  },
  {
   "cell_type": "code",
   "execution_count": 26,
   "metadata": {},
   "outputs": [
    {
     "data": {
      "text/plain": [
       "38745.240382799544"
      ]
     },
     "execution_count": 26,
     "metadata": {},
     "output_type": "execute_result"
    }
   ],
   "source": [
    "model.predict([[example_cost,example_admission_rate]])[0]"
   ]
  },
  {
   "cell_type": "markdown",
   "metadata": {},
   "source": [
    "The two results were the same. From this, we can conclude that `model.predict` is really just outputting $B_1*x_1 + B_2*x_2 + k$.\n",
    "\n",
    "(When we look at other algorithms in later lectures, the equation will be different. However, the general idea is the same: `model.fit` created an equation, and `model.predict` uses that equation)"
   ]
  },
  {
   "cell_type": "markdown",
   "metadata": {},
   "source": [
    "### Summary\n",
    "Our `model` is an object. When we train it (by calling `model.fit`), we're setting its parameters (for example, $B_1$, $B_2$, and k). When we predict (by calling `model.predict(new_data)`), `model` is applying a function to each row of `new_data` in order to get a prediction.\n",
    "\n",
    "\n",
    "### What we still don't know\n",
    "\n",
    "How do we increase the model's score (how do we make our model better)?"
   ]
  },
  {
   "cell_type": "markdown",
   "metadata": {},
   "source": [
    "## Problem 2\n",
    "\n",
    "Use 'cost' and 'compl_4' to predict 'median_earnings'.\n",
    "\n",
    "Use a train test split of 25% as a test set (not 20%, which all the previous examples used).\n",
    "\n",
    "Print out the median_earnings predicted for the test set. Also print out the model's score."
   ]
  },
  {
   "cell_type": "code",
   "execution_count": 27,
   "metadata": {},
   "outputs": [],
   "source": [
    "problem_2_data = original_data.copy()"
   ]
  },
  {
   "cell_type": "code",
   "execution_count": 28,
   "metadata": {},
   "outputs": [
    {
     "name": "stdout",
     "output_type": "stream",
     "text": [
      "[1.38537264e-01 1.97134008e+04]\n",
      "29644.247440676674\n"
     ]
    }
   ],
   "source": [
    "# Fill in this cell with your code. We've provided helpful psuedocode.\n",
    "\n",
    "features = problem_2_data[['cost','compl_4']]\n",
    "target = problem_2_data['median_earnings']\n",
    "x_train, x_test, y_train, y_test = train_test_split(features, target, test_size=0.25, random_state=42)\n",
    "model = LinearRegression()\n",
    "model.fit(x_train, y_train)  # train the model\n",
    "\n",
    "model.coef_\n",
    "model.intercept_\n",
    "\n",
    "print(model.coef_)\n",
    "print(model.intercept_)\n",
    "\n"
   ]
  },
  {
   "cell_type": "code",
   "execution_count": 29,
   "metadata": {},
   "outputs": [
    {
     "data": {
      "text/html": [
       "<div>\n",
       "<style scoped>\n",
       "    .dataframe tbody tr th:only-of-type {\n",
       "        vertical-align: middle;\n",
       "    }\n",
       "\n",
       "    .dataframe tbody tr th {\n",
       "        vertical-align: top;\n",
       "    }\n",
       "\n",
       "    .dataframe thead th {\n",
       "        text-align: right;\n",
       "    }\n",
       "</style>\n",
       "<table border=\"1\" class=\"dataframe\">\n",
       "  <thead>\n",
       "    <tr style=\"text-align: right;\">\n",
       "      <th></th>\n",
       "      <th>name</th>\n",
       "      <th>city</th>\n",
       "      <th>state</th>\n",
       "      <th>adm_rate</th>\n",
       "      <th>undergrads</th>\n",
       "      <th>cost</th>\n",
       "      <th>compl_4</th>\n",
       "      <th>median_hh_inc</th>\n",
       "      <th>median_earnings</th>\n",
       "    </tr>\n",
       "  </thead>\n",
       "  <tbody>\n",
       "    <tr>\n",
       "      <th>1</th>\n",
       "      <td>University of Alabama at Birmingham</td>\n",
       "      <td>Birmingham</td>\n",
       "      <td>AL</td>\n",
       "      <td>0.6043</td>\n",
       "      <td>11269</td>\n",
       "      <td>22232</td>\n",
       "      <td>0.3173</td>\n",
       "      <td>55735.22</td>\n",
       "      <td>40200</td>\n",
       "    </tr>\n",
       "  </tbody>\n",
       "</table>\n",
       "</div>"
      ],
      "text/plain": [
       "                                  name        city state  adm_rate  \\\n",
       "1  University of Alabama at Birmingham  Birmingham    AL    0.6043   \n",
       "\n",
       "   undergrads   cost  compl_4  median_hh_inc  median_earnings  \n",
       "1       11269  22232   0.3173       55735.22            40200  "
      ]
     },
     "execution_count": 29,
     "metadata": {},
     "output_type": "execute_result"
    }
   ],
   "source": [
    "problem_2_data.loc[1:1]"
   ]
  },
  {
   "cell_type": "code",
   "execution_count": 30,
   "metadata": {},
   "outputs": [],
   "source": [
    "example_cost= 22232\n",
    "example_compl_4= 0.3173"
   ]
  },
  {
   "cell_type": "code",
   "execution_count": 31,
   "metadata": {},
   "outputs": [
    {
     "name": "stdout",
     "output_type": "stream",
     "text": [
      "38979.26998106415\n"
     ]
    }
   ],
   "source": [
    "B1= model.coef_[0]\n",
    "B2= model.coef_[1]\n",
    "k= model.intercept_\n",
    "\n",
    "manually_predict_median_earnings= B1*example_cost + B2*example_compl_4 + k\n",
    "print(manually_predict_median_earnings)"
   ]
  },
  {
   "cell_type": "code",
   "execution_count": 32,
   "metadata": {},
   "outputs": [
    {
     "name": "stdout",
     "output_type": "stream",
     "text": [
      "38979.26998106415\n",
      "Score: 0.2652107066553435\n"
     ]
    }
   ],
   "source": [
    "model_predict= model.predict([[example_cost,example_compl_4]])[0] # predict on new data\n",
    "\n",
    "print(model_predict)\n",
    "print(\"Score:\", model.score(x_train, y_train))\n",
    "\n",
    "#? why the score is so low?"
   ]
  },
  {
   "cell_type": "markdown",
   "metadata": {},
   "source": [
    "# Section 4: Validation and Testing"
   ]
  },
  {
   "cell_type": "code",
   "execution_count": 33,
   "metadata": {},
   "outputs": [],
   "source": [
    "section_4_data = original_data.copy()"
   ]
  },
  {
   "cell_type": "code",
   "execution_count": 34,
   "metadata": {},
   "outputs": [
    {
     "name": "stdout",
     "output_type": "stream",
     "text": [
      "training score: 0.769963851281587\n",
      "validation score: 0.15056033082221265\n"
     ]
    }
   ],
   "source": [
    "X = section_4_data.drop([\"name\",\"median_earnings\"], axis=1) # use all columns except name and median_earnings\n",
    "X = pd.get_dummies(X) # transform categorical columns so we can use them in linear regression\n",
    "Y = section_4_data[\"median_earnings\"]\n",
    "\n",
    "x_train, x_test, y_train, y_test = train_test_split(X, Y, test_size=0.2, random_state=42)\n",
    "\n",
    "model = LinearRegression()\n",
    "model.fit(x_train, y_train) # train on train set\n",
    "\n",
    "print(\"training score:\", model.score(x_train,y_train)) # how accurately did model capture training set relationship?\n",
    "print(\"validation score:\", model.score(x_test,y_test)) # how well can model predict new things?"
   ]
  },
  {
   "cell_type": "markdown",
   "metadata": {},
   "source": [
    "## Problem 3\n",
    "\n",
    "### Replace the 'None' values below with appropriate values to create a train-validate-test split."
   ]
  },
  {
   "cell_type": "code",
   "execution_count": 35,
   "metadata": {},
   "outputs": [
    {
     "name": "stdout",
     "output_type": "stream",
     "text": [
      "      6424   6748   9103   9191   9348   10521  10754  10776  10826  10851  \\\n",
      "0         0      0      0      0      0      0      0      0      0      0   \n",
      "1         0      0      0      0      0      0      0      0      0      0   \n",
      "2         0      0      0      0      0      0      0      0      0      0   \n",
      "3         0      0      0      0      0      0      0      0      0      0   \n",
      "4         0      0      0      0      0      0      0      0      0      0   \n",
      "...     ...    ...    ...    ...    ...    ...    ...    ...    ...    ...   \n",
      "1579      0      0      0      0      0      0      0      0      0      0   \n",
      "1580      0      0      0      0      0      0      0      0      0      0   \n",
      "1581      0      0      0      0      0      0      0      0      0      0   \n",
      "1582      0      0      0      0      0      0      0      0      0      0   \n",
      "1583      0      0      0      0      0      0      0      0      0      0   \n",
      "\n",
      "      ...  65133  65405  65436  65657  65887  66078  66323  66604  66627  \\\n",
      "0     ...      0      0      0      0      0      0      0      0      0   \n",
      "1     ...      0      0      0      0      0      0      0      0      0   \n",
      "2     ...      0      0      0      0      0      0      0      0      0   \n",
      "3     ...      0      0      0      0      0      0      0      0      0   \n",
      "4     ...      0      0      0      0      0      0      0      0      0   \n",
      "...   ...    ...    ...    ...    ...    ...    ...    ...    ...    ...   \n",
      "1579  ...      0      0      0      0      0      0      0      0      0   \n",
      "1580  ...      0      0      0      0      0      0      0      0      0   \n",
      "1581  ...      0      0      0      0      0      0      0      0      0   \n",
      "1582  ...      0      0      0      0      0      0      0      0      0   \n",
      "1583  ...      0      0      0      0      0      0      0      0      0   \n",
      "\n",
      "      67572  \n",
      "0         0  \n",
      "1         0  \n",
      "2         0  \n",
      "3         0  \n",
      "4         0  \n",
      "...     ...  \n",
      "1579      0  \n",
      "1580      0  \n",
      "1581      0  \n",
      "1582      0  \n",
      "1583      0  \n",
      "\n",
      "[1584 rows x 1521 columns]\n",
      "training score: 0.9828792837013924\n",
      "validation score: -2.259885268769161e+25\n"
     ]
    }
   ],
   "source": [
    "problem_3_data = original_data.copy()\n",
    "X = problem_3_data[\"cost\"] # TODO\n",
    "X = pd.get_dummies(X)   # remember to transform categorical columns so we can use them in linear regression\n",
    "print(X)\n",
    "Y = problem_3_data[\"median_earnings\"]\n",
    "\n",
    "#x_not_test, x_test, y_not_test, y_test = None,None,None,None # TODO\n",
    "#x_train, x_valid, y_train, y_valid = None,None,None,None # TODO\n",
    "\n",
    "x_not_test, x_test, y_not_test, y_test = train_test_split(X, Y, test_size=0.2, random_state=42)\n",
    "x_train, x_valid, y_train, y_valid = train_test_split(X, Y, train_size=0.25, random_state=42)\n",
    "\n",
    "model = LinearRegression()\n",
    "model.fit(x_train, y_train) # TODO\n",
    "\n",
    "print(\"training score:\", model.score(x_train,y_train))\n",
    "print(\"validation score:\", model.score(x_valid,y_valid))\n",
    "\n",
    "#?"
   ]
  },
  {
   "cell_type": "code",
   "execution_count": 36,
   "metadata": {},
   "outputs": [
    {
     "name": "stdout",
     "output_type": "stream",
     "text": [
      "testing score: -1.892344721499959e+25\n"
     ]
    }
   ],
   "source": [
    "print(\"testing score:\", model.score(x_test,y_test))"
   ]
  },
  {
   "cell_type": "markdown",
   "metadata": {},
   "source": [
    "## Problem 4\n",
    "\n",
    "Use 'median_earnings' to predict 'median_earnings'.\n",
    "\n",
    "Remember to create a train-test split (use whatever percentage of test set you want).\n",
    "\n",
    "Print out the coefficients. Print out the model's score. Briefly explain why you got the coefficients and accuracy that you got."
   ]
  },
  {
   "cell_type": "code",
   "execution_count": 37,
   "metadata": {},
   "outputs": [],
   "source": [
    "problem_4_data = original_data.copy()"
   ]
  },
  {
   "cell_type": "code",
   "execution_count": 38,
   "metadata": {},
   "outputs": [
    {
     "data": {
      "text/plain": [
       "LinearRegression(copy_X=True, fit_intercept=True, n_jobs=None, normalize=False)"
      ]
     },
     "execution_count": 38,
     "metadata": {},
     "output_type": "execute_result"
    }
   ],
   "source": [
    "# split data and create model\n",
    "X = problem_4_data[\"median_earnings\"] \n",
    "X = pd.get_dummies(X) # transform categorical columns so we can use them in linear regression\n",
    "Y = problem_4_data[\"median_earnings\"]\n",
    "\n",
    "x_train, x_test, y_train, y_test = train_test_split(X, Y, test_size=0.3, random_state=42)\n",
    "\n",
    "\n",
    "model = LinearRegression()\n",
    "model.fit(x_train, y_train) # train on train set"
   ]
  },
  {
   "cell_type": "code",
   "execution_count": 39,
   "metadata": {},
   "outputs": [
    {
     "name": "stdout",
     "output_type": "stream",
     "text": [
      "[-1.80852900e+03 -3.33357692e+04 -3.09357692e+04 -2.92357692e+04\n",
      " -2.90357692e+04 -2.87357692e+04 -4.94224402e+02 -2.75357692e+04\n",
      " -2.74357692e+04 -2.73357692e+04  1.26971121e+03 -2.70357692e+04\n",
      " -2.69357692e+04 -2.68357692e+04 -2.55357692e+04 -2.48357692e+04\n",
      " -2.47357692e+04 -2.43357692e+04 -2.42357692e+04 -2.83670837e+03\n",
      " -2.32357692e+04 -2.28357692e+04 -2.27357692e+04 -2.25357692e+04\n",
      " -2.22357692e+04 -2.20357692e+04 -2.18357692e+04 -1.18122871e+03\n",
      " -2.14357692e+04 -2.13357692e+04 -2.12357692e+04 -2.10357692e+04\n",
      " -2.07357692e+04 -2.03357692e+04 -2.02357692e+04 -2.01357692e+04\n",
      " -2.00357692e+04 -1.98357692e+04 -1.95357692e+04 -1.94357692e+04\n",
      " -1.93357692e+04 -1.92357692e+04 -1.91357692e+04 -1.90357692e+04\n",
      " -1.89357692e+04 -1.88357692e+04 -1.87357692e+04 -1.84357692e+04\n",
      " -1.83357692e+04 -1.81357692e+04 -1.80357692e+04 -1.79357692e+04\n",
      " -1.78357692e+04 -1.77357692e+04 -1.76357692e+04 -1.75357692e+04\n",
      " -1.74357692e+04 -1.72357692e+04 -1.70357692e+04 -1.69357692e+04\n",
      " -1.68357692e+04 -1.67357692e+04 -1.65357692e+04  4.43874901e+03\n",
      " -1.63357692e+04 -1.62357692e+04 -1.60357692e+04 -1.59357692e+04\n",
      " -1.58357692e+04 -1.57357692e+04 -1.56357692e+04 -1.55357692e+04\n",
      " -1.54357692e+04 -1.53357692e+04 -1.52357692e+04 -1.51357692e+04\n",
      "  1.46223563e+03 -1.49357692e+04 -1.48357692e+04 -1.47357692e+04\n",
      " -1.46357692e+04 -1.45357692e+04 -1.44357692e+04 -1.43357692e+04\n",
      " -1.40357692e+04 -1.39357692e+04 -1.38357692e+04 -1.37357692e+04\n",
      " -1.36357692e+04 -1.35357692e+04 -1.33357692e+04 -1.32357692e+04\n",
      " -1.31357692e+04 -1.30357692e+04 -1.29357692e+04 -1.28357692e+04\n",
      " -1.27357692e+04 -1.26357692e+04 -1.25357692e+04 -1.24357692e+04\n",
      " -1.23357692e+04 -1.21357692e+04 -1.20357692e+04 -1.19357692e+04\n",
      " -1.18357692e+04 -1.17357692e+04 -1.16357692e+04 -1.15357692e+04\n",
      " -1.14357692e+04 -1.13357692e+04 -1.12357692e+04 -1.11357692e+04\n",
      " -1.10357692e+04 -1.09357692e+04 -1.08357692e+04 -1.07357692e+04\n",
      " -1.06357692e+04 -1.05357692e+04 -1.04357692e+04 -1.03357692e+04\n",
      " -1.02357692e+04 -1.01357692e+04 -1.00357692e+04 -9.93576924e+03\n",
      " -9.83576924e+03 -9.73576924e+03 -9.63576924e+03 -9.53576924e+03\n",
      " -9.43576924e+03 -9.33576924e+03 -9.23576924e+03 -9.13576924e+03\n",
      " -9.03576924e+03 -8.93576924e+03 -8.83576924e+03 -8.73576924e+03\n",
      " -8.63576924e+03 -8.53576924e+03 -8.43576924e+03 -8.33576924e+03\n",
      " -8.23576924e+03 -4.91127139e-11 -8.03576924e+03 -7.93576924e+03\n",
      " -7.83576924e+03 -7.73576924e+03 -7.63576924e+03 -7.53576924e+03\n",
      " -7.43576924e+03 -7.33576924e+03 -7.23576924e+03 -7.13576924e+03\n",
      " -7.03576924e+03 -6.93576924e+03 -6.83576924e+03 -6.73576924e+03\n",
      " -6.63576924e+03 -6.53576924e+03 -6.43576924e+03 -6.33576924e+03\n",
      " -6.23576924e+03 -6.13576924e+03 -6.03576924e+03 -5.93576924e+03\n",
      " -5.83576924e+03 -5.73576924e+03 -5.63576924e+03 -5.53576924e+03\n",
      " -5.43576924e+03 -5.33576924e+03 -5.23576924e+03 -5.13576924e+03\n",
      " -5.03576924e+03 -4.93576924e+03 -4.83576924e+03 -4.73576924e+03\n",
      " -4.63576924e+03 -4.53576924e+03 -4.43576924e+03 -4.33576924e+03\n",
      " -4.23576924e+03 -4.13576924e+03 -4.03576924e+03 -3.93576924e+03\n",
      " -3.83576924e+03 -3.73576924e+03 -3.63576924e+03 -3.53576924e+03\n",
      " -3.43576924e+03 -3.33576924e+03 -3.23576924e+03 -3.13576924e+03\n",
      " -3.03576924e+03 -2.93576924e+03 -2.83576924e+03 -2.73576924e+03\n",
      " -2.63576924e+03 -2.53576924e+03 -2.43576924e+03 -2.33576924e+03\n",
      " -2.23576924e+03 -2.13576924e+03 -2.03576924e+03 -1.93576924e+03\n",
      " -1.83576924e+03 -1.73576924e+03 -1.63576924e+03 -1.43576924e+03\n",
      " -1.33576924e+03 -1.23576924e+03 -1.13576924e+03 -1.03576924e+03\n",
      " -9.35769237e+02 -8.35769237e+02 -7.35769237e+02 -6.35769237e+02\n",
      " -5.35769237e+02 -4.35769237e+02 -3.35769237e+02 -2.35769237e+02\n",
      " -1.35769237e+02 -3.57692368e+01  6.42307632e+01  1.64230763e+02\n",
      "  2.64230763e+02  3.64230763e+02  4.64230763e+02  5.64230763e+02\n",
      "  6.64230763e+02  7.64230763e+02  6.95488893e+04  9.64230763e+02\n",
      " -3.73026958e+03  1.16423076e+03  1.26423076e+03  1.36423076e+03\n",
      "  1.46423076e+03  1.56423076e+03  1.62142158e+04  1.76423076e+03\n",
      "  1.86423076e+03  1.96423076e+03  2.06423076e+03  2.16423076e+03\n",
      "  2.26423076e+03  2.36423076e+03  2.46423076e+03  2.56423076e+03\n",
      "  2.66423076e+03  2.76423076e+03  2.86423076e+03  2.96423076e+03\n",
      "  3.06423076e+03  3.27418093e-11  3.26423076e+03  3.36423076e+03\n",
      "  3.46423076e+03  3.56423076e+03  3.66423076e+03  3.76423076e+03\n",
      "  3.86423076e+03  3.96423076e+03  4.06423076e+03  4.16423076e+03\n",
      "  4.36423076e+03  4.46423076e+03  4.56423076e+03  4.66423076e+03\n",
      " -1.05501385e-10  4.86423076e+03  4.96423076e+03  5.06423076e+03\n",
      " -3.63797881e-12  5.36423076e+03  5.46423076e+03  5.56423076e+03\n",
      "  5.66423076e+03  5.76423076e+03  5.86423076e+03  5.96423076e+03\n",
      "  6.06423076e+03  6.16423076e+03  6.26423076e+03  6.36423076e+03\n",
      "  6.46423076e+03  6.56423076e+03  6.66423076e+03  6.76423076e+03\n",
      "  3.05022254e+03  6.96423076e+03  7.06423076e+03  1.73354718e+03\n",
      "  7.26423076e+03  3.62616428e+03  7.46423076e+03  7.56423076e+03\n",
      "  7.66423076e+03  7.96423076e+03  8.06423076e+03  8.16423076e+03\n",
      "  8.26423076e+03  8.36423076e+03  8.46423076e+03  8.56423076e+03\n",
      "  8.66423076e+03  8.76423076e+03  8.86423076e+03  8.96423076e+03\n",
      "  9.06423076e+03  9.16423076e+03  9.26423076e+03  9.36423076e+03\n",
      "  9.46423076e+03  9.56423076e+03  9.66423076e+03  9.76423076e+03\n",
      "  9.96423076e+03  1.00642308e+04  1.01642308e+04  1.02642308e+04\n",
      "  1.04642308e+04  1.06642308e+04  1.08642308e+04  2.08268052e+02\n",
      " -1.81184712e-04  1.13642308e+04  1.14642308e+04  1.16642308e+04\n",
      " -7.27595761e-12  5.22248911e-12  1.24642308e+04  1.25642308e+04\n",
      "  1.26642308e+04  1.28642308e+04  1.29642308e+04  1.30642308e+04\n",
      "  1.31642308e+04  1.32642308e+04  1.34642308e+04  1.35642308e+04\n",
      "  1.37642308e+04  1.39642308e+04  1.40642308e+04  1.41642308e+04\n",
      "  4.24345671e-07  1.44642308e+04  1.45642308e+04 -4.23865640e-06\n",
      "  1.50642308e+04  1.51642308e+04  1.53642308e+04  1.70537158e+04\n",
      "  1.56642308e+04  1.58642308e+04  1.62642308e+04  1.66642308e+04\n",
      " -7.27595761e-12  1.70642308e+04  5.45696821e-12  1.81642308e+04\n",
      "  1.83642308e+04  1.85642308e+04  1.86642308e+04  1.90642308e+04\n",
      "  1.93642308e+04  2.64890332e-11  2.00642308e+04  2.01642308e+04\n",
      "  2.36468622e-11  2.04642308e+04  2.09642308e+04 -7.27595761e-12\n",
      "  2.13642308e+04  2.27642308e+04  2.31642308e+04  2.34642308e+04\n",
      "  2.36642308e+04  2.37642308e+04  2.38642308e+04  2.42642308e+04\n",
      "  2.45642308e+04 -7.27595761e-12  2.61642308e+04  7.73070497e-12\n",
      "  2.80642308e+04  2.83642308e+04  2.88642308e+04  2.96642308e+04\n",
      "  3.05642308e+04  3.10642308e+04  3.17642308e+04  3.20642308e+04\n",
      "  3.24642308e+04  3.27642308e+04 -3.63797881e-12  3.30642308e+04\n",
      "  2.04636308e-12  3.43642308e+04  3.44642308e+04  3.51642308e+04\n",
      "  3.56642308e+04  2.04636308e-12  3.62642308e+04  3.64642308e+04\n",
      "  3.70642308e+04  5.00222086e-12  3.63797881e-12  4.11642308e+04\n",
      "  1.64845915e-12  4.47642308e+04  4.52642308e+04  0.00000000e+00\n",
      "  4.80642308e+04  6.65642308e+04  7.64642308e+04]\n",
      "training score: 1.0\n",
      "validation score: 0.5319185249655622\n"
     ]
    }
   ],
   "source": [
    "# print out coefficient \n",
    "print(model.coef_)\n",
    "\n",
    "# print out the score\n",
    "print(\"training score:\", model.score(x_train,y_train)) # how accurately did model capture training set relationship?\n",
    "print(\"validation score:\", model.score(x_test,y_test)) # how well can model predict new things?\n",
    "\n",
    "#? how do the \"test_size\" affect validation score"
   ]
  },
  {
   "cell_type": "markdown",
   "metadata": {},
   "source": [
    "#### Briefly explain why you got the coefficients and score that you got. \n",
    "\n",
    "Since the model we train and the value we expect to get is the same, the coefficient will be the same as median_earnings and we get a 1.0 score."
   ]
  },
  {
   "cell_type": "markdown",
   "metadata": {},
   "source": [
    "## Problem 5 (optional)\n",
    "\n",
    "Linear regression does well with variables that are correlated. Look up how to print out the correlation matrix of a pandas dataframe.\n",
    "\n",
    "Looking at the correlation matrix, pick at least 3 features that have a low (between -0.5 and 0.5) correlation with median_earnings and plot scatterplots of each of them against median_earnings.\n",
    "Using these scatterplot, pick one of the features and try a few transformations that might increase its correlation with median_earnings. That is, create new features (columns) and see what their correlation with median_earnings is.\n",
    "\n",
    "Create a model using one of these new features, as well as other features that are well correlated with median_earnings, as features. Print out the score."
   ]
  },
  {
   "cell_type": "code",
   "execution_count": 40,
   "metadata": {},
   "outputs": [],
   "source": [
    "problem_5_data = original_data.copy()"
   ]
  },
  {
   "cell_type": "code",
   "execution_count": 41,
   "metadata": {},
   "outputs": [
    {
     "name": "stdout",
     "output_type": "stream",
     "text": [
      "                 adm_rate  undergrads      cost   compl_4  median_hh_inc  \\\n",
      "adm_rate         1.000000   -0.062271 -0.293172 -0.321177      -0.196725   \n",
      "undergrads      -0.062271    1.000000 -0.276129 -0.019260       0.100142   \n",
      "cost            -0.293172   -0.276129  1.000000  0.697559       0.573066   \n",
      "compl_4         -0.321177   -0.019260  0.697559  1.000000       0.563205   \n",
      "median_hh_inc   -0.196725    0.100142  0.573066  0.563205       1.000000   \n",
      "median_earnings -0.269183    0.211267  0.435045  0.503592       0.607307   \n",
      "\n",
      "                 median_earnings  \n",
      "adm_rate               -0.269183  \n",
      "undergrads              0.211267  \n",
      "cost                    0.435045  \n",
      "compl_4                 0.503592  \n",
      "median_hh_inc           0.607307  \n",
      "median_earnings         1.000000  \n"
     ]
    }
   ],
   "source": [
    "# print out correlation matrix\n",
    "data= pd.DataFrame(problem_5_data)\n",
    "correlationMatrix= data.corr()   #data.corr()\n",
    "print(correlationMatrix)"
   ]
  },
  {
   "cell_type": "code",
   "execution_count": 42,
   "metadata": {},
   "outputs": [
    {
     "data": {
      "image/png": "[encoded data removed]",
      "text/plain": [
       "<Figure size 432x288 with 1 Axes>"
      ]
     },
     "metadata": {
      "needs_background": "light"
     },
     "output_type": "display_data"
    },
    {
     "data": {
      "image/png": "[encoded data removed]",
      "text/plain": [
       "<Figure size 432x288 with 1 Axes>"
      ]
     },
     "metadata": {
      "needs_background": "light"
     },
     "output_type": "display_data"
    },
    {
     "data": {
      "image/png": "[encoded data removed]",
      "text/plain": [
       "<Figure size 432x288 with 1 Axes>"
      ]
     },
     "metadata": {
      "needs_background": "light"
     },
     "output_type": "display_data"
    }
   ],
   "source": [
    "# use matplotlib to plot\n",
    "import matplotlib.pyplot as plt\n",
    "%matplotlib inline  \n",
    "\n",
    "#Load data\n",
    "# make scatter plots, 1)adm_rate, 2)undergrads, 3)cost\n",
    "# Extracting adm_rate and undergrads and cost\n",
    "X = pd.DataFrame(data,columns=['adm_rate','undergrads','cost','median_earnings']) #Name rows according to sklearn API\n",
    "\n",
    "# plot median_earnings vs adm_rate\n",
    "plt.scatter(X['median_earnings'],X['adm_rate']) \n",
    "plt.title('median_earnings vs adm_rate')\n",
    "plt.xlabel('median_earnings')\n",
    "plt.ylabel('adm_rate')\n",
    "plt.show()\n",
    "\n",
    "# plot median_earnings vs undergrads\n",
    "plt.scatter(X['median_earnings'],X['undergrads']) \n",
    "plt.title('median_earnings vs undergrads')\n",
    "plt.xlabel('median_earnings')\n",
    "plt.ylabel('undergrads')\n",
    "plt.show()\n",
    "\n",
    "# plot median_earnings vs cost\n",
    "plt.scatter(X['median_earnings'],X['cost']) \n",
    "plt.title('median_earnings vs cost')\n",
    "plt.xlabel('median_earnings')\n",
    "plt.ylabel('cost')\n",
    "plt.show()\n"
   ]
  },
  {
   "cell_type": "code",
   "execution_count": 43,
   "metadata": {},
   "outputs": [
    {
     "data": {
      "text/html": [
       "<div>\n",
       "<style scoped>\n",
       "    .dataframe tbody tr th:only-of-type {\n",
       "        vertical-align: middle;\n",
       "    }\n",
       "\n",
       "    .dataframe tbody tr th {\n",
       "        vertical-align: top;\n",
       "    }\n",
       "\n",
       "    .dataframe thead th {\n",
       "        text-align: right;\n",
       "    }\n",
       "</style>\n",
       "<table border=\"1\" class=\"dataframe\">\n",
       "  <thead>\n",
       "    <tr style=\"text-align: right;\">\n",
       "      <th></th>\n",
       "      <th>name</th>\n",
       "      <th>city</th>\n",
       "      <th>state</th>\n",
       "      <th>adm_rate</th>\n",
       "      <th>undergrads</th>\n",
       "      <th>cost</th>\n",
       "      <th>compl_4</th>\n",
       "      <th>median_hh_inc</th>\n",
       "      <th>median_earnings</th>\n",
       "      <th>undergrad_corr</th>\n",
       "    </tr>\n",
       "  </thead>\n",
       "  <tbody>\n",
       "    <tr>\n",
       "      <th>0</th>\n",
       "      <td>Alabama A &amp; M University</td>\n",
       "      <td>Normal</td>\n",
       "      <td>AL</td>\n",
       "      <td>0.6538</td>\n",
       "      <td>4505</td>\n",
       "      <td>20809</td>\n",
       "      <td>0.1104</td>\n",
       "      <td>49720.22</td>\n",
       "      <td>29900</td>\n",
       "      <td>1.436878</td>\n",
       "    </tr>\n",
       "    <tr>\n",
       "      <th>1</th>\n",
       "      <td>University of Alabama at Birmingham</td>\n",
       "      <td>Birmingham</td>\n",
       "      <td>AL</td>\n",
       "      <td>0.6043</td>\n",
       "      <td>11269</td>\n",
       "      <td>22232</td>\n",
       "      <td>0.3173</td>\n",
       "      <td>55735.22</td>\n",
       "      <td>40200</td>\n",
       "      <td>1.808204</td>\n",
       "    </tr>\n",
       "    <tr>\n",
       "      <th>2</th>\n",
       "      <td>University of Alabama in Huntsville</td>\n",
       "      <td>Huntsville</td>\n",
       "      <td>AL</td>\n",
       "      <td>0.8120</td>\n",
       "      <td>5829</td>\n",
       "      <td>20999</td>\n",
       "      <td>0.1848</td>\n",
       "      <td>58688.62</td>\n",
       "      <td>45600</td>\n",
       "      <td>2.171532</td>\n",
       "    </tr>\n",
       "    <tr>\n",
       "      <th>3</th>\n",
       "      <td>Alabama State University</td>\n",
       "      <td>Montgomery</td>\n",
       "      <td>AL</td>\n",
       "      <td>0.4639</td>\n",
       "      <td>4740</td>\n",
       "      <td>18100</td>\n",
       "      <td>0.1216</td>\n",
       "      <td>46065.20</td>\n",
       "      <td>26700</td>\n",
       "      <td>1.475138</td>\n",
       "    </tr>\n",
       "    <tr>\n",
       "      <th>4</th>\n",
       "      <td>The University of Alabama</td>\n",
       "      <td>Tuscaloosa</td>\n",
       "      <td>AL</td>\n",
       "      <td>0.5359</td>\n",
       "      <td>31005</td>\n",
       "      <td>27205</td>\n",
       "      <td>0.4135</td>\n",
       "      <td>57928.41</td>\n",
       "      <td>42700</td>\n",
       "      <td>1.569564</td>\n",
       "    </tr>\n",
       "    <tr>\n",
       "      <th>...</th>\n",
       "      <td>...</td>\n",
       "      <td>...</td>\n",
       "      <td>...</td>\n",
       "      <td>...</td>\n",
       "      <td>...</td>\n",
       "      <td>...</td>\n",
       "      <td>...</td>\n",
       "      <td>...</td>\n",
       "      <td>...</td>\n",
       "      <td>...</td>\n",
       "    </tr>\n",
       "    <tr>\n",
       "      <th>1579</th>\n",
       "      <td>DigiPen Institute of Technology</td>\n",
       "      <td>Redmond</td>\n",
       "      <td>WA</td>\n",
       "      <td>0.4657</td>\n",
       "      <td>989</td>\n",
       "      <td>41573</td>\n",
       "      <td>0.3139</td>\n",
       "      <td>70283.94</td>\n",
       "      <td>81300</td>\n",
       "      <td>1.955596</td>\n",
       "    </tr>\n",
       "    <tr>\n",
       "      <th>1580</th>\n",
       "      <td>National University College-Rio Grande</td>\n",
       "      <td>Rio Grande</td>\n",
       "      <td>PR</td>\n",
       "      <td>0.7866</td>\n",
       "      <td>1493</td>\n",
       "      <td>13739</td>\n",
       "      <td>0.0102</td>\n",
       "      <td>20548.96</td>\n",
       "      <td>17100</td>\n",
       "      <td>1.244632</td>\n",
       "    </tr>\n",
       "    <tr>\n",
       "      <th>1581</th>\n",
       "      <td>Neumont University</td>\n",
       "      <td>Salt Lake City</td>\n",
       "      <td>UT</td>\n",
       "      <td>0.8301</td>\n",
       "      <td>472</td>\n",
       "      <td>31821</td>\n",
       "      <td>0.5263</td>\n",
       "      <td>65341.88</td>\n",
       "      <td>47900</td>\n",
       "      <td>1.505295</td>\n",
       "    </tr>\n",
       "    <tr>\n",
       "      <th>1582</th>\n",
       "      <td>Johnson &amp; Wales University-Charlotte</td>\n",
       "      <td>Charlotte</td>\n",
       "      <td>NC</td>\n",
       "      <td>0.7245</td>\n",
       "      <td>2218</td>\n",
       "      <td>42124</td>\n",
       "      <td>0.3932</td>\n",
       "      <td>68856.12</td>\n",
       "      <td>36600</td>\n",
       "      <td>0.868863</td>\n",
       "    </tr>\n",
       "    <tr>\n",
       "      <th>1583</th>\n",
       "      <td>ITT Technical Institute-Kennesaw</td>\n",
       "      <td>Kennesaw</td>\n",
       "      <td>GA</td>\n",
       "      <td>0.8824</td>\n",
       "      <td>358</td>\n",
       "      <td>27339</td>\n",
       "      <td>0.0000</td>\n",
       "      <td>56914.50</td>\n",
       "      <td>38800</td>\n",
       "      <td>1.419218</td>\n",
       "    </tr>\n",
       "  </tbody>\n",
       "</table>\n",
       "<p>1584 rows × 10 columns</p>\n",
       "</div>"
      ],
      "text/plain": [
       "                                        name            city state  adm_rate  \\\n",
       "0                   Alabama A & M University          Normal    AL    0.6538   \n",
       "1        University of Alabama at Birmingham      Birmingham    AL    0.6043   \n",
       "2        University of Alabama in Huntsville      Huntsville    AL    0.8120   \n",
       "3                   Alabama State University      Montgomery    AL    0.4639   \n",
       "4                  The University of Alabama      Tuscaloosa    AL    0.5359   \n",
       "...                                      ...             ...   ...       ...   \n",
       "1579         DigiPen Institute of Technology         Redmond    WA    0.4657   \n",
       "1580  National University College-Rio Grande      Rio Grande    PR    0.7866   \n",
       "1581                      Neumont University  Salt Lake City    UT    0.8301   \n",
       "1582    Johnson & Wales University-Charlotte       Charlotte    NC    0.7245   \n",
       "1583        ITT Technical Institute-Kennesaw        Kennesaw    GA    0.8824   \n",
       "\n",
       "      undergrads   cost  compl_4  median_hh_inc  median_earnings  \\\n",
       "0           4505  20809   0.1104       49720.22            29900   \n",
       "1          11269  22232   0.3173       55735.22            40200   \n",
       "2           5829  20999   0.1848       58688.62            45600   \n",
       "3           4740  18100   0.1216       46065.20            26700   \n",
       "4          31005  27205   0.4135       57928.41            42700   \n",
       "...          ...    ...      ...            ...              ...   \n",
       "1579         989  41573   0.3139       70283.94            81300   \n",
       "1580        1493  13739   0.0102       20548.96            17100   \n",
       "1581         472  31821   0.5263       65341.88            47900   \n",
       "1582        2218  42124   0.3932       68856.12            36600   \n",
       "1583         358  27339   0.0000       56914.50            38800   \n",
       "\n",
       "      undergrad_corr  \n",
       "0           1.436878  \n",
       "1           1.808204  \n",
       "2           2.171532  \n",
       "3           1.475138  \n",
       "4           1.569564  \n",
       "...              ...  \n",
       "1579        1.955596  \n",
       "1580        1.244632  \n",
       "1581        1.505295  \n",
       "1582        0.868863  \n",
       "1583        1.419218  \n",
       "\n",
       "[1584 rows x 10 columns]"
      ]
     },
     "execution_count": 43,
     "metadata": {},
     "output_type": "execute_result"
    }
   ],
   "source": [
    "#? create new features (columns) and see what their correlation with median_earnings is.\n",
    "# pick \"undergrads\"\n",
    "correlationMatrix= data.corr()\n",
    "data.insert(9,\"undergrad_corr\",eduProRatio,True)\n",
    "data"
   ]
  },
  {
   "cell_type": "code",
   "execution_count": 44,
   "metadata": {},
   "outputs": [
    {
     "data": {
      "text/plain": [
       "LinearRegression(copy_X=True, fit_intercept=True, n_jobs=None, normalize=False)"
      ]
     },
     "execution_count": 44,
     "metadata": {},
     "output_type": "execute_result"
    }
   ],
   "source": [
    "features = problem_5_data[['cost','undergrad_corr','adm_rate']]\n",
    "target = problem_5_data['median_earnings']\n",
    "x_train, x_test, y_train, y_test = train_test_split(features, target, test_size=0.2, random_state=42)\n",
    "model = LinearRegression()\n",
    "model.fit(x_train, y_train)  # train the model"
   ]
  },
  {
   "cell_type": "code",
   "execution_count": 45,
   "metadata": {},
   "outputs": [
    {
     "data": {
      "text/html": [
       "<div>\n",
       "<style scoped>\n",
       "    .dataframe tbody tr th:only-of-type {\n",
       "        vertical-align: middle;\n",
       "    }\n",
       "\n",
       "    .dataframe tbody tr th {\n",
       "        vertical-align: top;\n",
       "    }\n",
       "\n",
       "    .dataframe thead th {\n",
       "        text-align: right;\n",
       "    }\n",
       "</style>\n",
       "<table border=\"1\" class=\"dataframe\">\n",
       "  <thead>\n",
       "    <tr style=\"text-align: right;\">\n",
       "      <th></th>\n",
       "      <th>name</th>\n",
       "      <th>city</th>\n",
       "      <th>state</th>\n",
       "      <th>adm_rate</th>\n",
       "      <th>undergrads</th>\n",
       "      <th>cost</th>\n",
       "      <th>compl_4</th>\n",
       "      <th>median_hh_inc</th>\n",
       "      <th>median_earnings</th>\n",
       "      <th>undergrad_corr</th>\n",
       "    </tr>\n",
       "  </thead>\n",
       "  <tbody>\n",
       "    <tr>\n",
       "      <th>1</th>\n",
       "      <td>University of Alabama at Birmingham</td>\n",
       "      <td>Birmingham</td>\n",
       "      <td>AL</td>\n",
       "      <td>0.6043</td>\n",
       "      <td>11269</td>\n",
       "      <td>22232</td>\n",
       "      <td>0.3173</td>\n",
       "      <td>55735.22</td>\n",
       "      <td>40200</td>\n",
       "      <td>1.808204</td>\n",
       "    </tr>\n",
       "  </tbody>\n",
       "</table>\n",
       "</div>"
      ],
      "text/plain": [
       "                                  name        city state  adm_rate  \\\n",
       "1  University of Alabama at Birmingham  Birmingham    AL    0.6043   \n",
       "\n",
       "   undergrads   cost  compl_4  median_hh_inc  median_earnings  undergrad_corr  \n",
       "1       11269  22232   0.3173       55735.22            40200        1.808204  "
      ]
     },
     "execution_count": 45,
     "metadata": {},
     "output_type": "execute_result"
    }
   ],
   "source": [
    "# predict and print out the median earnings for the test set\n",
    "model.coef_\n",
    "model.intercept_\n",
    "B1 = model.coef_[0]\n",
    "B2 = model.coef_[1]\n",
    "B3 = model.coef_[2]\n",
    "\n",
    "problem_5_data.loc[1:1]\n"
   ]
  },
  {
   "cell_type": "code",
   "execution_count": 46,
   "metadata": {},
   "outputs": [
    {
     "name": "stdout",
     "output_type": "stream",
     "text": [
      "16461.455606859243\n"
     ]
    }
   ],
   "source": [
    "k = model.intercept_\n",
    "manually_predicted_median_earnings = B1 * example_cost + B2 * example_admission_rate + k\n",
    "\n",
    "# print out the score\n",
    "print(manually_predicted_median_earnings)"
   ]
  },
  {
   "cell_type": "code",
   "execution_count": 47,
   "metadata": {},
   "outputs": [],
   "source": [
    "example_cost= 22232\n",
    "example_undergrad_corr= 1.808204\n",
    "example_adm_rate= 0.6043\n"
   ]
  },
  {
   "cell_type": "code",
   "execution_count": 48,
   "metadata": {},
   "outputs": [
    {
     "name": "stdout",
     "output_type": "stream",
     "text": [
      "38334.61956426474\n"
     ]
    }
   ],
   "source": [
    "B1= model.coef_[0]\n",
    "B2= model.coef_[1]\n",
    "B3= model.coef_[2]\n",
    "k= model.intercept_\n",
    "manually_predict_median_earnings= B1*example_cost + B2*example_undergrad_corr + B3*example_adm_rate +k\n",
    "print(manually_predict_median_earnings)"
   ]
  },
  {
   "cell_type": "code",
   "execution_count": 49,
   "metadata": {},
   "outputs": [
    {
     "name": "stdout",
     "output_type": "stream",
     "text": [
      "38334.61956426474\n",
      "Score: 0.7155141979620887\n"
     ]
    }
   ],
   "source": [
    "model_predict= model.predict([[example_cost,example_undergrad_corr,example_adm_rate ]])[0] # predict on new data\n",
    "\n",
    "print(model_predict)\n",
    "print(\"Score:\", model.score(x_train, y_train))"
   ]
  }
 ],
 "metadata": {
  "kernelspec": {
   "display_name": "Python 3",
   "language": "python",
   "name": "python3"
  },
  "language_info": {
   "codemirror_mode": {
    "name": "ipython",
    "version": 3
   },
   "file_extension": ".py",
   "mimetype": "text/x-python",
   "name": "python",
   "nbconvert_exporter": "python",
   "pygments_lexer": "ipython3",
   "version": "3.7.6"
  },
  "notebookId": "^EG=G=bpDp\\gp"
 },
 "nbformat": 4,
 "nbformat_minor": 2
}
